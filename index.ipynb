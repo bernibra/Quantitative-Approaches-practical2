{
 "cells": [
  {
   "cell_type": "markdown",
   "metadata": {},
   "source": [
    "# Modularity and nestedness of ecological networks\n",
    "\n",
    "Here, we are going to try to collectively characterize the structure of a bunch of networks. We will first work on an example of the exercise by groups, and we will then repeat the exercise individually.\n",
    "\n",
    "## Modularity\n",
    "\n",
    "Multiple ecological studies have shown that many empirical ecological networks are significantly more compartmentalized than would be expected at random. In other words, these networks tend to be organized in subsets of species that interact more frequently among themselves than with other members of the system.\n",
    "\n",
    "<img src=\"Modularity.png\" alt=\"Drawing\" style=\"width: 400px;\"/>\n",
    "\n",
    "Here, we will show how to calculate the level of modularity of empirical ecological networks."
   ]
  },
  {
   "cell_type": "markdown",
   "metadata": {},
   "source": [
    "<font color='green'>**Exercise 1.** Transform the following adjacency matrix to represent a network without cannibal loops and two disconnected compartments of the same size?<font>"
   ]
  },
  {
   "cell_type": "markdown",
   "metadata": {
    "solution2": "hidden",
    "solution2_first": true
   },
   "source": [
    "```{r}\n",
    "rbind(\n",
    "        c(1,0,0,0,0,0),\n",
    "        c(0,1,0,0,0,0),\n",
    "        c(0,0,1,0,0,0),\n",
    "        c(0,0,0,1,0,0),\n",
    "        c(0,0,0,0,1,0),\n",
    "        c(0,0,0,0,0,1)\n",
    "        )\n",
    "```"
   ]
  },
  {
   "cell_type": "markdown",
   "metadata": {
    "solution2": "hidden"
   },
   "source": [
    "```{r}\n",
    "rbind(\n",
    "        c(0,1,1,0,0,0),\n",
    "        c(1,0,1,0,0,0),\n",
    "        c(1,1,0,0,0,0),\n",
    "        c(0,0,0,0,1,1),\n",
    "        c(0,0,0,1,0,1),\n",
    "        c(0,0,0,1,1,0)\n",
    "        )\n",
    "```"
   ]
  },
  {
   "cell_type": "markdown",
   "metadata": {},
   "source": [
    "<font color='green'>**Exercise 2.** Is the following matrix compartimentalized? How would you go about figuring this out? Discuss it with the members of your group.<font>"
   ]
  },
  {
   "cell_type": "markdown",
   "metadata": {
    "solution2": "hidden",
    "solution2_first": true
   },
   "source": [
    "```{r}\n",
    "rbind(\n",
    "        c(0,1,0,0,1,0),\n",
    "        c(1,0,0,0,1,0),\n",
    "        c(0,0,0,1,0,1),\n",
    "        c(0,0,1,0,0,1),\n",
    "        c(1,1,0,0,0,0),\n",
    "        c(0,0,1,1,0,0)\n",
    "        )\n",
    "```"
   ]
  },
  {
   "cell_type": "markdown",
   "metadata": {
    "solution2": "hidden"
   },
   "source": [
    "*It's not easy to know if the matrix is compartimentalized or not... but I would permute the columns and the rows to figure this out.*\n"
   ]
  },
  {
   "cell_type": "markdown",
   "metadata": {},
   "source": [
    "<font color='green'>**Exercise 3.** Permute the rows and the columns of the matrix above so that they have the following order: 5, 2, 1, 4, 3 and 6.<font>"
   ]
  },
  {
   "cell_type": "code",
   "execution_count": 24,
   "metadata": {
    "solution2": "hidden",
    "solution2_first": true
   },
   "outputs": [],
   "source": [
    "# Insert the line of code that you need here\n",
    "\n",
    "\n"
   ]
  },
  {
   "cell_type": "code",
   "execution_count": null,
   "metadata": {
    "solution2": "hidden"
   },
   "outputs": [],
   "source": [
    "mat <- rbind(\n",
    "        c(0,1,0,0,1,0),\n",
    "        c(1,0,0,0,1,0),\n",
    "        c(0,0,0,1,0,1),\n",
    "        c(0,0,1,0,0,1),\n",
    "        c(1,1,0,0,0,0),\n",
    "        c(0,0,1,1,0,0)\n",
    "        )\n",
    "idx <- c(5,2,1,4,3,6)\n",
    "print(mat[idx, idx])"
   ]
  },
  {
   "cell_type": "markdown",
   "metadata": {},
   "source": [
    "What have we learned? By permuting the elements of the matrix, we are able to untangle the modular structure of the matrix. But... what do we do when we don't know the right order of rows and columns? \n",
    "\n",
    "There are different R packages that could help us figure this out. You might remember \"igraph\" from the previous practical session, an R library that helped us visualize networks. This library provides multiple community detection methods that will help you understand the number of modules found within a given matrix. Let's try to figure out the number of compartments found in the matrix represented in the Exercise 2 via the \"short random walks\" method."
   ]
  },
  {
   "cell_type": "code",
   "execution_count": null,
   "metadata": {},
   "outputs": [],
   "source": [
    "# First we import the library\n",
    "library(igraph, warn.conflicts = FALSE)\n",
    "\n",
    "# Second, let's put the above matrix into a variable called 'mat'\n",
    "mat <- rbind(\n",
    "        c(0,1,0,0,1,0),\n",
    "        c(1,0,0,0,1,0),\n",
    "        c(0,0,0,1,0,1),\n",
    "        c(0,0,1,0,0,1),\n",
    "        c(1,1,0,0,0,0),\n",
    "        c(0,0,1,1,0,0)\n",
    "        )\n",
    "\n",
    "# Convert the adjacency matrix into an igraph object\n",
    "g <- graph_from_adjacency_matrix(mat)\n",
    "\n",
    "# Fourth, let's use the random walks method to calculate the number of clusters\n",
    "wtc <- cluster_walktrap(g)\n",
    "\n",
    "# Print the results\n",
    "print(wtc)"
   ]
  },
  {
   "cell_type": "markdown",
   "metadata": {},
   "source": [
    "<font color='green'>**Exercise 4.** How many compartments have the method found? Discuss the results with the members of your group and prove that this is the right grouping.<font>"
   ]
  },
  {
   "cell_type": "code",
   "execution_count": null,
   "metadata": {
    "solution2": "hidden",
    "solution2_first": true
   },
   "outputs": [],
   "source": [
    "# Insert the lines of code that you need here\n",
    "\n"
   ]
  },
  {
   "cell_type": "code",
   "execution_count": null,
   "metadata": {
    "scrolled": true,
    "solution2": "hidden"
   },
   "outputs": [],
   "source": [
    "idx <- c(wtc[[1]], wtc[[2]])\n",
    "mat[idx, idx]"
   ]
  },
  {
   "cell_type": "markdown",
   "metadata": {},
   "source": [
    "Now we know how many compartments are there, and we know what permutation of the matrix identifies the different modules of the matrix. How can we calculate modularity?\n",
    "\n",
    "We could use the function described in the lectures, it wouldn't be hard to code that. However, \"igraph\" provides us with a function to assess the level of modularity of a particular matrix:"
   ]
  },
  {
   "cell_type": "code",
   "execution_count": 70,
   "metadata": {},
   "outputs": [
    {
     "data": {
      "text/html": [
       "0.5"
      ],
      "text/latex": [
       "0.5"
      ],
      "text/markdown": [
       "0.5"
      ],
      "text/plain": [
       "[1] 0.5"
      ]
     },
     "metadata": {},
     "output_type": "display_data"
    }
   ],
   "source": [
    "# Given the graph generated before and the grouping found using the \"short random walks\" algorithm,\n",
    "# we can easily calculate modularity using the \"modularity\" function from igraph\n",
    "modularity(g, membership(wtc))"
   ]
  },
  {
   "cell_type": "markdown",
   "metadata": {
    "solution2": "hidden",
    "solution2_first": true
   },
   "source": [
    "<font color='green'>**Exercise 5.** Could you imagine a matrix with the same dimensions that would give you higher modularity?<font>"
   ]
  },
  {
   "cell_type": "markdown",
   "metadata": {
    "solution2": "hidden"
   },
   "source": [
    "The identity matrix!\n",
    "```{r}\n",
    "rbind(\n",
    "        c(1,0,0,0,0,0),\n",
    "        c(0,1,0,0,0,0),\n",
    "        c(0,0,1,0,0,0),\n",
    "        c(0,0,0,1,0,0),\n",
    "        c(0,0,0,0,1,0),\n",
    "        c(0,0,0,0,0,1)\n",
    "        )\n",
    "```"
   ]
  },
  {
   "cell_type": "markdown",
   "metadata": {},
   "source": [
    "## Nestedness\n",
    "\n",
    "Multiple ecological studies have shown that empirical mutualistic networks present a very singular level of organization. In particular, they noticed that, in these ecological network, the more specialist species interact only with proper subsets of those species interacting with the more generalists.\n",
    "\n",
    "<img src=\"nestedness.png\" alt=\"Drawing\" style=\"width: 400px;\"/>\n"
   ]
  },
  {
   "cell_type": "markdown",
   "metadata": {},
   "source": [
    "<font color='green'>**Exercise 6.** Import the R library \"vegan\" and calculate the level of nestedness of the matrix below (hint: you'll have to use google to know what to use and how to do it)<font>"
   ]
  },
  {
   "cell_type": "code",
   "execution_count": 80,
   "metadata": {
    "solution2": "hidden",
    "solution2_first": true
   },
   "outputs": [],
   "source": [
    "#Import the package below and calculate how nested this matrix is\n",
    "mat <- rbind(\n",
    "        c(1,1,1,1,1,1),\n",
    "        c(1,1,1,1,1,0),\n",
    "        c(1,1,1,1,0,0),\n",
    "        c(1,1,1,0,0,0),\n",
    "        c(1,1,0,0,0,0),\n",
    "        c(1,0,0,0,0,0)\n",
    "        )"
   ]
  },
  {
   "cell_type": "code",
   "execution_count": 85,
   "metadata": {
    "solution2": "hidden"
   },
   "outputs": [
    {
     "name": "stdout",
     "output_type": "stream",
     "text": [
      "nestedness temperature: 0 \n",
      "with matrix fill 0.5833333 \n"
     ]
    }
   ],
   "source": [
    "library(vegan, verbose = F, warn.conflicts = F)\n",
    "mat <- rbind(\n",
    "        c(1,1,1,1,1,1),\n",
    "        c(1,1,1,1,1,0),\n",
    "        c(1,1,1,1,0,0),\n",
    "        c(1,1,1,0,0,0),\n",
    "        c(1,1,0,0,0,0),\n",
    "        c(1,0,0,0,0,0)\n",
    "        )\n",
    "print(nestedtemp(mat))"
   ]
  },
  {
   "cell_type": "markdown",
   "metadata": {},
   "source": [
    "The temperature indicates how nested the matrix is, lower temperatures indicate high nestedness while high temperatures indicate low levels of nestedness"
   ]
  },
  {
   "cell_type": "markdown",
   "metadata": {},
   "source": [
    "<font color='green'>**Exercise 7.** What matrix can you come up with that has really high temperature<font>"
   ]
  },
  {
   "cell_type": "code",
   "execution_count": null,
   "metadata": {
    "solution2": "hidden",
    "solution2_first": true
   },
   "outputs": [],
   "source": [
    "# Insert the lines of code that you need here\n",
    "\n"
   ]
  },
  {
   "cell_type": "markdown",
   "metadata": {
    "solution2": "hidden"
   },
   "source": [
    "One option would be using the following matrix!\n",
    "```{r}\n",
    "rbind(\n",
    "        c(1,0,1,0,1,0),\n",
    "        c(0,1,0,1,0,1),\n",
    "        c(1,0,1,0,1,0),\n",
    "        c(0,1,0,1,0,1),\n",
    "        c(1,0,1,0,1,0),\n",
    "        c(0,1,0,1,0,1)\n",
    "        )\n",
    "```"
   ]
  },
  {
   "cell_type": "markdown",
   "metadata": {},
   "source": [
    "## Importing the data and calculating basic network metrics\n",
    "\n",
    "Every group will be using different dataset. Click on your group to see what data you will be using as a group:\n",
    "\n",
    "\n",
    "<details>\n",
    "  <summary> Group 1</summary>\n",
    "\n",
    "  * File name: ```group1.csv```\n",
    "  * Network id: ```M_SD_034```\n",
    "  * Network type: ```seed-dispersal network```\n",
    "  * Source: ```web of life```\n",
    "\n",
    "</details>\n",
    "<details>\n",
    "  <summary> Group 2</summary>\n",
    "\n",
    "  * File name: ```group2.csv```\n",
    "  * Network id: ```M_PL_058```\n",
    "  * Network type: ```pollination network```\n",
    "  * Source: ```web of life```\n",
    "\n",
    "</details>\n",
    "<details>\n",
    "  <summary> Group 3</summary>\n",
    "\n",
    "  * File name: ```group3.csv```\n",
    "  * Network id: ```M_PA_004```\n",
    "  * Network type: ```plant-ant network```\n",
    "  * Source: ```web of life```\n",
    "\n",
    "</details>\n",
    "<details>\n",
    "  <summary> Group 4</summary>\n",
    "\n",
    "  * File name: ```group4.csv```\n",
    "  * Network id: ```A_PH_005```\n",
    "  * Network type: ```plant-hervibore network```\n",
    "  * Source: ```web of life```\n",
    "\n",
    "</details>"
   ]
  },
  {
   "cell_type": "markdown",
   "metadata": {},
   "source": [
    "<font color='green'>**Exercice 1.** Load the data using the function \"read.table()\" in R and count the number of species in the network.<font>"
   ]
  },
  {
   "cell_type": "code",
   "execution_count": 14,
   "metadata": {
    "solution2": "hidden",
    "solution2_first": true
   },
   "outputs": [],
   "source": [
    "# Insert the line of code that you need here\n",
    "\n"
   ]
  },
  {
   "cell_type": "markdown",
   "metadata": {
    "solution2": "hidden"
   },
   "source": [
    "```{r}\n",
    "mat <- read.table(\"filename\") #your file name should be group1.csv, group2.csv,...\n",
    "species <- nrow(mat) + ncol(mat)\n",
    "```"
   ]
  },
  {
   "cell_type": "markdown",
   "metadata": {
    "solution2": "hidden",
    "solution2_first": true
   },
   "source": [
    "<font color='green'>**Exercice 2.** What is it different about this network relative to the ones we studied last week? In which way is the incidence matrix (aka adjacency matrix) different from last week's? Discuss with the members of your group.<font>"
   ]
  },
  {
   "cell_type": "markdown",
   "metadata": {
    "solution2": "hidden"
   },
   "source": [
    "*These are bipartite networks! The incidence matrix is different because it is not a square matrix anymore, the rows and the columns represent different things.*"
   ]
  },
  {
   "cell_type": "markdown",
   "metadata": {},
   "source": [
    "<font color='green'>**Exercice 3.** Calculate the connectance of the network.<font>"
   ]
  },
  {
   "cell_type": "code",
   "execution_count": 17,
   "metadata": {
    "solution2": "hidden",
    "solution2_first": true
   },
   "outputs": [],
   "source": [
    "# Insert the line of code that you need here\n",
    "\n"
   ]
  },
  {
   "cell_type": "markdown",
   "metadata": {
    "solution2": "hidden"
   },
   "source": [
    "```{r}\n",
    "mat <- read.table(\"filename\") #your file name should be group1.csv, group2.csv,...\n",
    "connectance <- sum(mat)/(nrow(mat)*ncol(mat))\n",
    "```"
   ]
  },
  {
   "cell_type": "markdown",
   "metadata": {},
   "source": [
    "<font color='green'>**Exercice 4.** Find your network in <font>[web of life](http://www.web-of-life.es) and figure out what the columns and the rows represent.<font>"
   ]
  },
  {
   "cell_type": "markdown",
   "metadata": {},
   "source": [
    "### Importing the data and calculating basic network metrics\n",
    "\n",
    "Open an R session in your laptop and load the data that you just downloaded. Depending on whether you downloaded your data from one website or another, your data will come in the form of an adjacency matrix or a list of edges.   "
   ]
  },
  {
   "cell_type": "code",
   "execution_count": null,
   "metadata": {},
   "outputs": [],
   "source": [
    "If this was a food web, how would you calculate the number of species\n",
    "If this was a plant-pollinator network, how would you calculate the number of species\n",
    "Calculate the number of links that this network has\n",
    "Calculate the connectance of this matrix\n",
    "Calculate modularity\n",
    "Calculate nestedness\n",
    "Calculate the average robustness to extinctions\n",
    "\n",
    "Do everything again individually."
   ]
  },
  {
   "cell_type": "markdown",
   "metadata": {},
   "source": [
    "Let's start by downloading an ecological network from a database such as [web of life](http://www.web-of-life.es), [globalwebdb](https://www.globalwebdb.com) or [icon.colorado.edu](https://icon.colorado.edu/#!/networks). The only condition is that it needs to represent an ecological system, and that it can't neither have more than 300 nodes nor less than 10. Do not pick the same network as your classmates.\n",
    "\n",
    "In order for me to keep track of everybody's results, make sure you know what your \"matriculation number\". *If you don't, you will find this by clicking the \"Participants\" tab in the ETH moodle.*\n",
    "\n",
    "I will be using the food web with identifier \"FW_008\" from [web of life](http://www.web-of-life.es). <font color='red'>**Please choose a different network!**<font>"
   ]
  },
  {
   "cell_type": "code",
   "execution_count": null,
   "metadata": {},
   "outputs": [],
   "source": []
  }
 ],
 "metadata": {
  "kernelspec": {
   "display_name": "R",
   "language": "R",
   "name": "ir"
  },
  "language_info": {
   "codemirror_mode": "r",
   "file_extension": ".r",
   "mimetype": "text/x-r-source",
   "name": "R",
   "pygments_lexer": "r",
   "version": "3.6.1"
  }
 },
 "nbformat": 4,
 "nbformat_minor": 2
}
