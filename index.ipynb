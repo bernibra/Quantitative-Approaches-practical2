{
 "cells": [
  {
   "cell_type": "markdown",
   "metadata": {},
   "source": [
    "# Modularity and nestedness of ecological networks\n",
    "\n",
    "Here, we are going to try to collectively characterize the structure of a bunch of networks. We will first work on an example of the exercise by groups, and we will then repeat the exercise individually.\n",
    "\n",
    "## Modularity\n",
    "\n",
    "Multiple ecological studies have shown that many empirical ecological networks are significantly more compartmentalized than would be expected at random. In other words, these networks tend to be organized in subsets of species that interact more frequently among themselves than with other members of the system.\n",
    "\n",
    "<img src=\"modularity.png\" alt=\"Drawing\" style=\"width: 400px;\"/>\n",
    "\n",
    "Here, we will show how to calculate the level of modularity of empirical ecological networks."
   ]
  },
  {
   "cell_type": "markdown",
   "metadata": {},
   "source": [
    "<font color='green'>**Exercise 1.** Transform the following adjacency matrix to represent a network without cannibal loops and two disconnected compartments of the same size?<font>"
   ]
  },
  {
   "cell_type": "markdown",
   "metadata": {
    "solution2": "hidden",
    "solution2_first": true
   },
   "source": [
    "```{r}\n",
    "rbind(\n",
    "        c(1,0,0,0,0,0),\n",
    "        c(0,1,0,0,0,0),\n",
    "        c(0,0,1,0,0,0),\n",
    "        c(0,0,0,1,0,0),\n",
    "        c(0,0,0,0,1,0),\n",
    "        c(0,0,0,0,0,1)\n",
    "        )\n",
    "```"
   ]
  },
  {
   "cell_type": "markdown",
   "metadata": {
    "solution2": "hidden"
   },
   "source": [
    "```{r}\n",
    "rbind(\n",
    "        c(0,1,1,0,0,0),\n",
    "        c(1,0,1,0,0,0),\n",
    "        c(1,1,0,0,0,0),\n",
    "        c(0,0,0,0,1,1),\n",
    "        c(0,0,0,1,0,1),\n",
    "        c(0,0,0,1,1,0)\n",
    "        )\n",
    "```"
   ]
  },
  {
   "cell_type": "markdown",
   "metadata": {},
   "source": [
    "<font color='green'>**Exercise 2.** Is the following matrix compartimentalized? How would you go about figuring this out? Discuss it with the members of your group.<font>"
   ]
  },
  {
   "cell_type": "markdown",
   "metadata": {
    "solution2": "hidden",
    "solution2_first": true
   },
   "source": [
    "```{r}\n",
    "rbind(\n",
    "        c(0,1,0,0,1,0),\n",
    "        c(1,0,0,0,1,0),\n",
    "        c(0,0,0,1,0,1),\n",
    "        c(0,0,1,0,0,1),\n",
    "        c(1,1,0,0,0,0),\n",
    "        c(0,0,1,1,0,0)\n",
    "        )\n",
    "```"
   ]
  },
  {
   "cell_type": "markdown",
   "metadata": {
    "solution2": "hidden"
   },
   "source": [
    "*It's not easy to know if the matrix is compartimentalized or not... but I would permute the columns and the rows to figure this out.*\n"
   ]
  },
  {
   "cell_type": "markdown",
   "metadata": {},
   "source": [
    "<font color='green'>**Exercise 3.** Permute the rows and the columns of the matrix above so that they have the following order: 5, 2, 1, 4, 3 and 6.<font>"
   ]
  },
  {
   "cell_type": "code",
   "execution_count": null,
   "metadata": {
    "solution2": "hidden",
    "solution2_first": true
   },
   "outputs": [],
   "source": [
    "# Insert the line of code that you need here\n",
    "\n",
    "\n"
   ]
  },
  {
   "cell_type": "code",
   "execution_count": null,
   "metadata": {
    "solution2": "hidden"
   },
   "outputs": [],
   "source": [
    "mat <- rbind(\n",
    "        c(0,1,0,0,1,0),\n",
    "        c(1,0,0,0,1,0),\n",
    "        c(0,0,0,1,0,1),\n",
    "        c(0,0,1,0,0,1),\n",
    "        c(1,1,0,0,0,0),\n",
    "        c(0,0,1,1,0,0)\n",
    "        )\n",
    "idx <- c(5,2,1,4,3,6)\n",
    "print(mat[idx, idx])"
   ]
  },
  {
   "cell_type": "markdown",
   "metadata": {},
   "source": [
    "What have we learned? By permuting the elements of the matrix, we are able to untangle the modular structure of the matrix. But... what do we do when we don't know the right order of rows and columns? \n",
    "\n",
    "There are different R packages that could help us figure this out. You might remember \"igraph\" from the previous practical session, an R library that helped us visualize networks. This library provides multiple community detection methods that will help you understand the number of modules found within a given matrix. Let's try to figure out the number of compartments found in the matrix represented in the Exercise 2 via the \"short random walks\" method."
   ]
  },
  {
   "cell_type": "code",
   "execution_count": null,
   "metadata": {},
   "outputs": [],
   "source": [
    "# First we import the library\n",
    "library(igraph, warn.conflicts = FALSE)\n",
    "\n",
    "# Second, let's put the above matrix into a variable called 'mat'\n",
    "mat <- rbind(\n",
    "        c(0,1,0,0,1,0),\n",
    "        c(1,0,0,0,1,0),\n",
    "        c(0,0,0,1,0,1),\n",
    "        c(0,0,1,0,0,1),\n",
    "        c(1,1,0,0,0,0),\n",
    "        c(0,0,1,1,0,0)\n",
    "        )\n",
    "\n",
    "# Convert the adjacency matrix into an igraph object\n",
    "g <- graph_from_adjacency_matrix(mat)\n",
    "\n",
    "# Fourth, let's use the random walks method to calculate the number of clusters\n",
    "wtc <- cluster_walktrap(g)\n",
    "\n",
    "# Print the results\n",
    "print(wtc)"
   ]
  },
  {
   "cell_type": "markdown",
   "metadata": {},
   "source": [
    "<font color='green'>**Exercise 4.** How many compartments have the method found? Discuss the results with the members of your group and prove that this is the right grouping.<font>"
   ]
  },
  {
   "cell_type": "code",
   "execution_count": null,
   "metadata": {
    "solution2": "hidden",
    "solution2_first": true
   },
   "outputs": [],
   "source": [
    "# Insert the lines of code that you need here\n",
    "\n"
   ]
  },
  {
   "cell_type": "code",
   "execution_count": null,
   "metadata": {
    "scrolled": true,
    "solution2": "hidden"
   },
   "outputs": [],
   "source": [
    "idx <- c(wtc[[1]], wtc[[2]])\n",
    "mat[idx, idx]"
   ]
  },
  {
   "cell_type": "markdown",
   "metadata": {},
   "source": [
    "Now we know how many compartments are there, and we know what permutations of the matrix identify the different modules of the matrix. How can we calculate modularity?\n",
    "\n",
    "We could use the function described in the lectures and calculate it ourselves; it wouldn't be hard to code that. However, \"igraph\" already provides us with a handy function to assess the level of modularity of a particular matrix:"
   ]
  },
  {
   "cell_type": "code",
   "execution_count": null,
   "metadata": {},
   "outputs": [],
   "source": [
    "# Given the graph generated before and the grouping found using the \"short random walks\" algorithm,\n",
    "# we can easily calculate modularity using the \"modularity\" function from igraph\n",
    "modularity(g, membership(wtc))"
   ]
  },
  {
   "cell_type": "markdown",
   "metadata": {
    "solution2": "hidden",
    "solution2_first": true
   },
   "source": [
    "<font color='green'>**Exercise 5.** Could you imagine a matrix with the same dimensions that would give you higher modularity?<font>"
   ]
  },
  {
   "cell_type": "markdown",
   "metadata": {
    "solution2": "hidden"
   },
   "source": [
    "The identity matrix!\n",
    "```{r}\n",
    "rbind(\n",
    "        c(1,0,0,0,0,0),\n",
    "        c(0,1,0,0,0,0),\n",
    "        c(0,0,1,0,0,0),\n",
    "        c(0,0,0,1,0,0),\n",
    "        c(0,0,0,0,1,0),\n",
    "        c(0,0,0,0,0,1)\n",
    "        )\n",
    "```"
   ]
  },
  {
   "cell_type": "markdown",
   "metadata": {},
   "source": [
    "## Nestedness\n",
    "\n",
    "Multiple ecological studies have shown that empirical mutualistic networks present a very singular level of organization. In particular, they noticed that, in these ecological networks, the more specialist species interact only with proper subsets of those species interacting with the more generalists.\n",
    "\n",
    "<img src=\"nestedness.png\" alt=\"Drawing\" style=\"width: 400px;\"/>\n"
   ]
  },
  {
   "cell_type": "markdown",
   "metadata": {},
   "source": [
    "<font color='green'>**Exercise 6.** Import the R library \"vegan\" and calculate the level of nestedness of the matrix below (hint: you'll have to use google to know what to use and how to use it)<font>"
   ]
  },
  {
   "cell_type": "code",
   "execution_count": null,
   "metadata": {
    "solution2": "hidden",
    "solution2_first": true
   },
   "outputs": [],
   "source": [
    "#Import the package below and calculate how nested this matrix is\n",
    "mat <- rbind(\n",
    "        c(1,1,1,1,1,1),\n",
    "        c(1,1,1,1,1,0),\n",
    "        c(1,1,1,1,0,0),\n",
    "        c(1,1,1,0,0,0),\n",
    "        c(1,1,0,0,0,0),\n",
    "        c(1,0,0,0,0,0)\n",
    "        )"
   ]
  },
  {
   "cell_type": "code",
   "execution_count": null,
   "metadata": {
    "solution2": "hidden"
   },
   "outputs": [],
   "source": [
    "library(vegan, verbose = F, warn.conflicts = F)\n",
    "mat <- rbind(\n",
    "        c(1,1,1,1,1,1),\n",
    "        c(1,1,1,1,1,0),\n",
    "        c(1,1,1,1,0,0),\n",
    "        c(1,1,1,0,0,0),\n",
    "        c(1,1,0,0,0,0),\n",
    "        c(1,0,0,0,0,0)\n",
    "        )\n",
    "print(nestedtemp(mat))"
   ]
  },
  {
   "cell_type": "markdown",
   "metadata": {},
   "source": [
    "The temperature indicates how nested the matrix is, lower temperatures indicate high nestedness while high temperatures indicate low levels of nestedness."
   ]
  },
  {
   "cell_type": "markdown",
   "metadata": {},
   "source": [
    "<font color='green'>**Exercise 7.** What matrix can you come up with that has really high temperature? Show it!<font>"
   ]
  },
  {
   "cell_type": "code",
   "execution_count": null,
   "metadata": {
    "solution2": "hidden",
    "solution2_first": true
   },
   "outputs": [],
   "source": [
    "# Insert the lines of code that you need here\n",
    "\n"
   ]
  },
  {
   "cell_type": "markdown",
   "metadata": {
    "solution2": "hidden"
   },
   "source": [
    "One option would be using the following matrix!\n",
    "```{r}\n",
    "rbind(\n",
    "        c(1,0,1,0,1,0),\n",
    "        c(0,1,0,1,0,1),\n",
    "        c(1,0,1,0,1,0),\n",
    "        c(0,1,0,1,0,1),\n",
    "        c(1,0,1,0,1,0),\n",
    "        c(0,1,0,1,0,1)\n",
    "        )\n",
    "```"
   ]
  },
  {
   "cell_type": "markdown",
   "metadata": {},
   "source": [
    "## Importing real data and calculating basic network metrics\n",
    "\n",
    "Every group will be using different dataset. Click on your group to see what data you will be using as a group:\n",
    "\n",
    "\n",
    "<details>\n",
    "  <summary> Group 1</summary>\n",
    "\n",
    "  * File name: ```group1.csv```\n",
    "  * Network id: ```M_SD_034```\n",
    "  * Source: ```web of life```\n",
    "\n",
    "</details>\n",
    "<details>\n",
    "  <summary> Group 2</summary>\n",
    "\n",
    "  * File name: ```group2.csv```\n",
    "  * Network id: ```M_PL_058```\n",
    "  * Source: ```web of life```\n",
    "\n",
    "</details>\n",
    "<details>\n",
    "  <summary> Group 3</summary>\n",
    "\n",
    "  * File name: ```group3.csv```\n",
    "  * Network id: ```M_PA_004```\n",
    "  * Source: ```web of life```\n",
    "\n",
    "</details>\n",
    "<details>\n",
    "  <summary> Group 4</summary>\n",
    "\n",
    "  * File name: ```group4.csv```\n",
    "  * Network id: ```A_PH_005```\n",
    "  * Source: ```web of life```\n",
    "\n",
    "</details>\n",
    "<details>\n",
    "  <summary> Group 5</summary>\n",
    "\n",
    "  * File name: ```group5.csv```\n",
    "  * Network id: ```A_HP_025```\n",
    "  * Source: ```web of life```\n",
    "\n",
    "</details>"
   ]
  },
  {
   "cell_type": "markdown",
   "metadata": {},
   "source": [
    "<font color='green'>**Exercise 8.** Load the data using the function \"read.table()\" in R and count the number of species in the network.<font>"
   ]
  },
  {
   "cell_type": "code",
   "execution_count": null,
   "metadata": {
    "solution2": "hidden",
    "solution2_first": true
   },
   "outputs": [],
   "source": [
    "# Insert the line of code that you need here\n",
    "\n"
   ]
  },
  {
   "cell_type": "markdown",
   "metadata": {
    "solution2": "hidden"
   },
   "source": [
    "```{r}\n",
    "mat <- read.table(\"filename\") #your file name should be group1.csv, group2.csv,...\n",
    "species <- nrow(mat) + ncol(mat)\n",
    "```"
   ]
  },
  {
   "cell_type": "markdown",
   "metadata": {
    "solution2": "hidden",
    "solution2_first": true
   },
   "source": [
    "<font color='green'>**Exercise 9.** What is it different about this network relative to the ones we studied last week? In which way is the incidence matrix (aka adjacency matrix) different from last week's? Discuss with the members of your group.<font>"
   ]
  },
  {
   "cell_type": "markdown",
   "metadata": {
    "solution2": "hidden"
   },
   "source": [
    "*These are bipartite networks! The incidence matrix is different because it is not a square matrix anymore, the rows and the columns represent different things.*"
   ]
  },
  {
   "cell_type": "markdown",
   "metadata": {},
   "source": [
    "<font color='green'>**Exercise 10.** Calculate the connectance of the network.<font>"
   ]
  },
  {
   "cell_type": "code",
   "execution_count": null,
   "metadata": {
    "solution2": "hidden",
    "solution2_first": true
   },
   "outputs": [],
   "source": [
    "# Insert the line of code that you need here\n",
    "\n"
   ]
  },
  {
   "cell_type": "markdown",
   "metadata": {
    "solution2": "hidden"
   },
   "source": [
    "```{r}\n",
    "mat <- read.table(\"filename\") #your file name should be group1.csv, group2.csv,...\n",
    "mat <- mat[mat>0] #Turn this matrix into a binary matrix if it's not already\n",
    "connectance <- sum(mat)/(nrow(mat)*ncol(mat))\n",
    "```"
   ]
  },
  {
   "cell_type": "markdown",
   "metadata": {},
   "source": [
    "<font color='green'>**Exercise 11.** Find your network in [web of life](http://www.web-of-life.es) and write down what the columns and the rows represent.<font>"
   ]
  },
  {
   "cell_type": "markdown",
   "metadata": {},
   "source": [
    "- The rows represent:\n",
    "- The columns represent:"
   ]
  },
  {
   "cell_type": "markdown",
   "metadata": {},
   "source": [
    "<font color='green'>**Exercise 12.** Use what you have learned to calculate the modularity and nestedness of your network (you can use the space below). Then, report the results in [this form](https://ee.kobotoolbox.org/x/#8z5hTxHO).<font>"
   ]
  },
  {
   "cell_type": "code",
   "execution_count": null,
   "metadata": {},
   "outputs": [],
   "source": [
    "# Insert the line of code that you need here\n",
    "\n"
   ]
  },
  {
   "cell_type": "markdown",
   "metadata": {},
   "source": [
    "You can check out the results of the other groups running the code below:"
   ]
  },
  {
   "cell_type": "code",
   "execution_count": null,
   "metadata": {},
   "outputs": [],
   "source": [
    "library(httr)\n",
    "rawdata<-httr::GET(\"https://kc.kobotoolbox.org/api/v1/data/425613\")\n",
    "form_metadata <- httr::content(rawdata)\n",
    "print(form_metadata)\n",
    "dat <- sapply(form_metadata, function(x) c(x$ID_of_the_network, x$Network_type, x$Number_of_species,\n",
    "                                          x$Connectance, x$Nestedness, x$Modularity))\n",
    "print(data.frame(ID=dat[1,], type=dat[2,], N=dat[3,], C=dat[4,], Nestedness=dat[5,], Modularity=dat[6,]))"
   ]
  },
  {
   "cell_type": "markdown",
   "metadata": {},
   "source": [
    "<font color='green'>**Exercise 13.** If you have extra time, repeat the same exercise from this section using a network of your choice from [web of life](http://www.web-of-life.es), [globalwebdb](https://www.globalwebdb.com) or [icon.colorado.edu](https://icon.colorado.edu/#!/networks)<font>"
   ]
  },
  {
   "cell_type": "code",
   "execution_count": null,
   "metadata": {},
   "outputs": [],
   "source": []
  }
 ],
 "metadata": {
  "kernelspec": {
   "display_name": "R",
   "language": "R",
   "name": "ir"
  },
  "language_info": {
   "codemirror_mode": "r",
   "file_extension": ".r",
   "mimetype": "text/x-r-source",
   "name": "R",
   "pygments_lexer": "r",
   "version": "3.6.1"
  }
 },
 "nbformat": 4,
 "nbformat_minor": 2
}
